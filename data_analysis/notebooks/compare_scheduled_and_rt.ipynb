{
 "cells": [
  {
   "cell_type": "markdown",
   "id": "f7c3d9d4",
   "metadata": {},
   "source": [
    "Read in pre-computed files of RT and scheduled data and compare!"
   ]
  },
  {
   "cell_type": "code",
   "execution_count": null,
   "id": "ad45a06d",
   "metadata": {},
   "outputs": [],
   "source": [
    "# required for pandas to read csv from aws\n",
    "import s3fs\n",
    "import os\n",
    "import pandas as pd\n",
    "import pendulum\n",
    "import shapely\n",
    "import geopandas"
   ]
  },
  {
   "cell_type": "code",
   "execution_count": null,
   "id": "a73390c9",
   "metadata": {},
   "outputs": [],
   "source": [
    "# if \"private\", will assume you have write permissions and allow you to write; else will not attempt to write files\n",
    "BUCKET_TYPE = \"public\""
   ]
  },
  {
   "cell_type": "code",
   "execution_count": null,
   "id": "4502aac9",
   "metadata": {},
   "outputs": [],
   "source": [
    "schedule_feeds = [\n",
    "    {'schedule_version': '20220507',\n",
    "    'feed_start_date': '2022-05-20',\n",
    "    'feed_end_date': '2022-06-02'},\n",
    "    \n",
    "    {'schedule_version': '20220603',\n",
    "    'feed_start_date': '2022-06-04',\n",
    "    'feed_end_date': '2022-06-07'},\n",
    "    \n",
    "    {'schedule_version': '20220608',\n",
    "    'feed_start_date': '2022-06-09',\n",
    "    'feed_end_date': '2022-07-08'},\n",
    "\n",
    "    {'schedule_version': '20220709',\n",
    "    'feed_start_date': '2022-07-10',\n",
    "    'feed_end_date': '2022-07-17'},\n",
    "\n",
    "    {'schedule_version': '20220718',\n",
    "    'feed_start_date': '2022-07-19',\n",
    "    'feed_end_date': '2022-07-20'} \n",
    "]"
   ]
  },
  {
   "cell_type": "code",
   "execution_count": null,
   "id": "873ae0fd",
   "metadata": {},
   "outputs": [],
   "source": [
    "for feed in schedule_feeds:\n",
    "    start_date = feed['feed_start_date']\n",
    "    end_date = feed['feed_end_date']\n",
    "    date_range = [d for d in pendulum.period(pendulum.from_format(start_date, 'YYYY-MM-DD'), pendulum.from_format(end_date, 'YYYY-MM-DD')).range('days')]\n",
    "    \n",
    "    print(f\"Loading schedule version {feed['schedule_version']}\")\n",
    "    schedule_raw = pd.read_csv(f's3://chn-ghost-buses-{BUCKET_TYPE}/schedule_summaries/route_level/schedule_route_daily_hourly_summary_v{feed[\"schedule_version\"]}.csv')\n",
    "    \n",
    "    rt_raw = pd.DataFrame()\n",
    "\n",
    "    for day in date_range:\n",
    "        date_str = day.to_date_string()\n",
    "        print(f\"Processing {date_str} at {pendulum.now().to_datetime_string()}\")    \n",
    "        daily_data = pd.read_csv(f's3://chn-ghost-buses-{BUCKET_TYPE}/bus_hourly_summary_v2/{date_str}.csv')\n",
    "        rt_raw = rt_raw.append(daily_data)\n",
    "        \n",
    "    # basic reformatting\n",
    "    rt = rt_raw.copy()\n",
    "    schedule = schedule_raw.copy()\n",
    "    rt['date'] = pd.to_datetime(rt.data_date, format = '%Y-%m-%d')\n",
    "    rt['route_id'] = rt['rt']\n",
    "    schedule['date'] = pd.to_datetime(schedule.date, format = '%Y-%m-%d')\n",
    "    \n",
    "    # get total by route by day\n",
    "    rt_daily_by_rte = rt.groupby(by = ['date', 'route_id'])['trip_count'].sum().reset_index()\n",
    "    sched_daily_by_rte = schedule.groupby(by = ['date', 'route_id'])['trip_count'].sum().reset_index()\n",
    "    \n",
    "    compare_daily_by_rte = rt_daily_by_rte.merge(sched_daily_by_rte, how = 'inner', \n",
    "                                             on = ['date', 'route_id'], suffixes = ['_rt', '_sched'])\n",
    "    \n",
    "    # compare by day of week \n",
    "    compare_daily_by_rte['dayofweek'] = compare_daily_by_rte['date'].dt.dayofweek\n",
    "    compare_daily_by_rte['day_type'] = compare_daily_by_rte['dayofweek'].map({0: 'wk', \n",
    "                                                                             1: 'wk',\n",
    "                                                                             2: 'wk',\n",
    "                                                                             3: 'wk',\n",
    "                                                                             4: 'wk',\n",
    "                                                                             5: 'sat',\n",
    "                                                                             6: 'sun'})\n",
    "\n",
    "    compare_daily_by_rte.loc[compare_daily_by_rte.date.isin(['2022-05-31', '2022-07-04']), 'day_type'] = 'hol'\n",
    "    \n",
    "    compare_by_day_type = compare_daily_by_rte.groupby(['route_id', 'day_type'])[['trip_count_rt', 'trip_count_sched']].sum().reset_index()\n",
    "    \n",
    "    compare_by_day_type['ratio'] = compare_by_day_type['trip_count_rt'] / compare_by_day_type['trip_count_sched']\n",
    "    \n",
    "    # compare_by_day_type.sort_values(by = ['day_type', 'route_id'])\n",
    "    \n",
    "    # compare_by_day_type[compare_by_day_type.day_type == 'wk'].sort_values(by = 'ratio')\n",
    "    \n",
    "    if BUCKET_TYPE == \"private\":\n",
    "        compare_by_day_type.to_csv(f's3://chn-ghost-buses-{BUCKET_TYPE}/schedule_rt_comparisons/route_level/schedule_v{feed[\"schedule_version\"]}_realtime_rt_level_comparison_{feed[\"feed_start_date\"]}_to_{feed[\"feed_end_date\"]}.csv', index = False)\n",
    "    \n",
    "    "
   ]
  },
  {
   "cell_type": "code",
   "execution_count": null,
   "id": "91401acc",
   "metadata": {},
   "outputs": [],
   "source": [
    "# build an overall summary from the versioned schedule comparisons\n",
    "combined = pd.DataFrame()\n",
    "for feed in schedule_feeds:\n",
    "    print(f\"Processing {feed['schedule_version']}\")\n",
    "    feed_comp = pd.read_csv(f's3://chn-ghost-buses-{BUCKET_TYPE}/schedule_rt_comparisons/route_level/schedule_v{feed[\"schedule_version\"]}_realtime_rt_level_comparison_{feed[\"feed_start_date\"]}_to_{feed[\"feed_end_date\"]}.csv')\n",
    "    print(f\"Loaded {len(feed_comp)} rows\")\n",
    "    combined = combined.append(feed_comp)\n",
    "    "
   ]
  },
  {
   "cell_type": "code",
   "execution_count": null,
   "id": "a67fd068",
   "metadata": {},
   "outputs": [],
   "source": [
    "summary = combined.groupby(['route_id', 'day_type'])[['trip_count_rt', 'trip_count_sched']].sum().reset_index()"
   ]
  },
  {
   "cell_type": "code",
   "execution_count": null,
   "id": "b683ee69",
   "metadata": {},
   "outputs": [],
   "source": [
    "summary['ratio'] = summary['trip_count_rt'] / summary['trip_count_sched']"
   ]
  },
  {
   "cell_type": "code",
   "execution_count": null,
   "id": "9f714174",
   "metadata": {},
   "outputs": [],
   "source": [
    "if BUCKET_TYPE == \"private\":\n",
    "    summary.to_csv(f's3://chn-ghost-buses-{BUCKET_TYPE}/schedule_rt_comparisons/route_level/combined_schedule_realtime_rt_level_comparison_2022-05-20_to_2022-07-20.csv', index = False)\n"
   ]
  },
  {
   "cell_type": "code",
   "execution_count": null,
   "id": "a93abf1a",
   "metadata": {},
   "outputs": [],
   "source": []
  }
 ],
 "metadata": {
  "kernelspec": {
   "display_name": "base_conda",
   "language": "python",
   "name": "base_conda"
  },
  "language_info": {
   "codemirror_mode": {
    "name": "ipython",
    "version": 3
   },
   "file_extension": ".py",
   "mimetype": "text/x-python",
   "name": "python",
   "nbconvert_exporter": "python",
   "pygments_lexer": "ipython3",
   "version": "3.9.7"
  }
 },
 "nbformat": 4,
 "nbformat_minor": 5
}
